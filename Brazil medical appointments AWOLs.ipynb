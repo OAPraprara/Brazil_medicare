{
 "cells": [
  {
   "cell_type": "markdown",
   "metadata": {},
   "source": [
    "\n",
    "\n",
    "\n",
    "# Project: Investigate a Dataset - Medical Appointment No Shows\n",
    "## Table of Contents\n",
    "<ul>\n",
    "<li><a href=\"#intro\">Introduction</a></li>\n",
    "<li><a href=\"#wrangling\">Data Wrangling</a></li>\n",
    "<li><a href=\"#eda\">Exploratory Data Analysis</a></li>\n",
    "<li><a href=\"#conclusions\">Conclusions</a></li>\n",
    "</ul>"
   ]
  },
  {
   "cell_type": "markdown",
   "metadata": {},
   "source": [
    "<a id='intro'></a>\n",
    "## Introduction\n",
    "\n",
    "\n",
    "\n",
    ">This dataset collects information from 100k medical appointments in Brazil and is focused on the question\n",
    "of whether or not patients show up for their appointment. A number of characteristics about the patient are included in each row.\n",
    "\n",
    ">● ‘ScheduledDay’ tells us on\n",
    "what day the patient set up their\n",
    "appointment.\n",
    "\n",
    ">● ‘Neighborhood’ indicates the\n",
    "location of the hospital.\n",
    "\n",
    ">● ‘Scholarship’ indicates\n",
    "whether or not the patient is\n",
    "enrolled in Brasilian welfare\n",
    "program Bolsa Família.\n",
    "\n",
    ">● 'SMS_received' indicates whether or not the patient received a reminder message\n"
   ]
  },
  {
   "cell_type": "markdown",
   "metadata": {},
   "source": [
    "## Questions to Ask"
   ]
  },
  {
   "cell_type": "markdown",
   "metadata": {},
   "source": [
    "1. Which gender showed up the most for their appointments?\n",
    "2. What are the locations with the highest number of patients?\n",
    "3. Which Age group had the most appointments?\n",
    "4. Which age group showed up for appointments most frequently?\n",
    "5. Which age group was most likely to miss an appointment?\n",
    "4. Is any neighborhood associated with older or younger patients?\n",
    "5. Were people enroled in the brazillian welfare program ('scholarship') more likely to show up for their appontments?\n",
    "6. Did people who received SMS show up more for their appointments? \n",
    "7. Which Neighborhood hospital had the most handicaps? Is there an indication that there is a special hospital for handicaps?\n"
   ]
  },
  {
   "cell_type": "code",
   "execution_count": 1,
   "metadata": {},
   "outputs": [],
   "source": [
    "# import modules\n",
    "import pandas as pd\n",
    "import numpy as np\n",
    "import matplotlib.pyplot as plt\n",
    "%matplotlib inline\n",
    "# use matplotlib inline to ensure that visualizations are plotted inline with the notebook. "
   ]
  },
  {
   "cell_type": "markdown",
   "metadata": {},
   "source": [
    "<a id='wrangling'></a>\n",
    "## Data Wrangling\n",
    "\n",
    "\n",
    "### General Properties"
   ]
  },
  {
   "cell_type": "markdown",
   "metadata": {},
   "source": [
    "The data is available to us as a csv file so we will explore it with pandas"
   ]
  },
  {
   "cell_type": "code",
   "execution_count": 2,
   "metadata": {},
   "outputs": [],
   "source": [
    "# Loading the data into a pandas DataFrame \n",
    "df_health = pd.read_csv('noshowappointments-kagglev2-may-2016.csv')"
   ]
  },
  {
   "cell_type": "code",
   "execution_count": 3,
   "metadata": {
    "scrolled": false
   },
   "outputs": [
    {
     "data": {
      "text/html": [
       "<div>\n",
       "<style scoped>\n",
       "    .dataframe tbody tr th:only-of-type {\n",
       "        vertical-align: middle;\n",
       "    }\n",
       "\n",
       "    .dataframe tbody tr th {\n",
       "        vertical-align: top;\n",
       "    }\n",
       "\n",
       "    .dataframe thead th {\n",
       "        text-align: right;\n",
       "    }\n",
       "</style>\n",
       "<table border=\"1\" class=\"dataframe\">\n",
       "  <thead>\n",
       "    <tr style=\"text-align: right;\">\n",
       "      <th></th>\n",
       "      <th>PatientId</th>\n",
       "      <th>AppointmentID</th>\n",
       "      <th>Gender</th>\n",
       "      <th>ScheduledDay</th>\n",
       "      <th>AppointmentDay</th>\n",
       "      <th>Age</th>\n",
       "      <th>Neighbourhood</th>\n",
       "      <th>Scholarship</th>\n",
       "      <th>Hipertension</th>\n",
       "      <th>Diabetes</th>\n",
       "      <th>Alcoholism</th>\n",
       "      <th>Handcap</th>\n",
       "      <th>SMS_received</th>\n",
       "      <th>No-show</th>\n",
       "    </tr>\n",
       "  </thead>\n",
       "  <tbody>\n",
       "    <tr>\n",
       "      <th>0</th>\n",
       "      <td>2.987250e+13</td>\n",
       "      <td>5642903</td>\n",
       "      <td>F</td>\n",
       "      <td>2016-04-29T18:38:08Z</td>\n",
       "      <td>2016-04-29T00:00:00Z</td>\n",
       "      <td>62</td>\n",
       "      <td>JARDIM DA PENHA</td>\n",
       "      <td>0</td>\n",
       "      <td>1</td>\n",
       "      <td>0</td>\n",
       "      <td>0</td>\n",
       "      <td>0</td>\n",
       "      <td>0</td>\n",
       "      <td>No</td>\n",
       "    </tr>\n",
       "    <tr>\n",
       "      <th>1</th>\n",
       "      <td>5.589978e+14</td>\n",
       "      <td>5642503</td>\n",
       "      <td>M</td>\n",
       "      <td>2016-04-29T16:08:27Z</td>\n",
       "      <td>2016-04-29T00:00:00Z</td>\n",
       "      <td>56</td>\n",
       "      <td>JARDIM DA PENHA</td>\n",
       "      <td>0</td>\n",
       "      <td>0</td>\n",
       "      <td>0</td>\n",
       "      <td>0</td>\n",
       "      <td>0</td>\n",
       "      <td>0</td>\n",
       "      <td>No</td>\n",
       "    </tr>\n",
       "    <tr>\n",
       "      <th>2</th>\n",
       "      <td>4.262962e+12</td>\n",
       "      <td>5642549</td>\n",
       "      <td>F</td>\n",
       "      <td>2016-04-29T16:19:04Z</td>\n",
       "      <td>2016-04-29T00:00:00Z</td>\n",
       "      <td>62</td>\n",
       "      <td>MATA DA PRAIA</td>\n",
       "      <td>0</td>\n",
       "      <td>0</td>\n",
       "      <td>0</td>\n",
       "      <td>0</td>\n",
       "      <td>0</td>\n",
       "      <td>0</td>\n",
       "      <td>No</td>\n",
       "    </tr>\n",
       "    <tr>\n",
       "      <th>3</th>\n",
       "      <td>8.679512e+11</td>\n",
       "      <td>5642828</td>\n",
       "      <td>F</td>\n",
       "      <td>2016-04-29T17:29:31Z</td>\n",
       "      <td>2016-04-29T00:00:00Z</td>\n",
       "      <td>8</td>\n",
       "      <td>PONTAL DE CAMBURI</td>\n",
       "      <td>0</td>\n",
       "      <td>0</td>\n",
       "      <td>0</td>\n",
       "      <td>0</td>\n",
       "      <td>0</td>\n",
       "      <td>0</td>\n",
       "      <td>No</td>\n",
       "    </tr>\n",
       "    <tr>\n",
       "      <th>4</th>\n",
       "      <td>8.841186e+12</td>\n",
       "      <td>5642494</td>\n",
       "      <td>F</td>\n",
       "      <td>2016-04-29T16:07:23Z</td>\n",
       "      <td>2016-04-29T00:00:00Z</td>\n",
       "      <td>56</td>\n",
       "      <td>JARDIM DA PENHA</td>\n",
       "      <td>0</td>\n",
       "      <td>1</td>\n",
       "      <td>1</td>\n",
       "      <td>0</td>\n",
       "      <td>0</td>\n",
       "      <td>0</td>\n",
       "      <td>No</td>\n",
       "    </tr>\n",
       "  </tbody>\n",
       "</table>\n",
       "</div>"
      ],
      "text/plain": [
       "      PatientId  AppointmentID Gender          ScheduledDay  \\\n",
       "0  2.987250e+13        5642903      F  2016-04-29T18:38:08Z   \n",
       "1  5.589978e+14        5642503      M  2016-04-29T16:08:27Z   \n",
       "2  4.262962e+12        5642549      F  2016-04-29T16:19:04Z   \n",
       "3  8.679512e+11        5642828      F  2016-04-29T17:29:31Z   \n",
       "4  8.841186e+12        5642494      F  2016-04-29T16:07:23Z   \n",
       "\n",
       "         AppointmentDay  Age      Neighbourhood  Scholarship  Hipertension  \\\n",
       "0  2016-04-29T00:00:00Z   62    JARDIM DA PENHA            0             1   \n",
       "1  2016-04-29T00:00:00Z   56    JARDIM DA PENHA            0             0   \n",
       "2  2016-04-29T00:00:00Z   62      MATA DA PRAIA            0             0   \n",
       "3  2016-04-29T00:00:00Z    8  PONTAL DE CAMBURI            0             0   \n",
       "4  2016-04-29T00:00:00Z   56    JARDIM DA PENHA            0             1   \n",
       "\n",
       "   Diabetes  Alcoholism  Handcap  SMS_received No-show  \n",
       "0         0           0        0             0      No  \n",
       "1         0           0        0             0      No  \n",
       "2         0           0        0             0      No  \n",
       "3         0           0        0             0      No  \n",
       "4         1           0        0             0      No  "
      ]
     },
     "execution_count": 3,
     "metadata": {},
     "output_type": "execute_result"
    }
   ],
   "source": [
    "df_health.head()"
   ]
  },
  {
   "cell_type": "code",
   "execution_count": 4,
   "metadata": {},
   "outputs": [
    {
     "data": {
      "text/plain": [
       "(110527, 14)"
      ]
     },
     "execution_count": 4,
     "metadata": {},
     "output_type": "execute_result"
    }
   ],
   "source": [
    "df_health.shape"
   ]
  },
  {
   "cell_type": "markdown",
   "metadata": {},
   "source": [
    "There are 110526 rows and 14 columns. Now let's look at the data type for each column"
   ]
  },
  {
   "cell_type": "code",
   "execution_count": 5,
   "metadata": {
    "scrolled": true
   },
   "outputs": [
    {
     "name": "stdout",
     "output_type": "stream",
     "text": [
      "<class 'pandas.core.frame.DataFrame'>\n",
      "RangeIndex: 110527 entries, 0 to 110526\n",
      "Data columns (total 14 columns):\n",
      " #   Column          Non-Null Count   Dtype  \n",
      "---  ------          --------------   -----  \n",
      " 0   PatientId       110527 non-null  float64\n",
      " 1   AppointmentID   110527 non-null  int64  \n",
      " 2   Gender          110527 non-null  object \n",
      " 3   ScheduledDay    110527 non-null  object \n",
      " 4   AppointmentDay  110527 non-null  object \n",
      " 5   Age             110527 non-null  int64  \n",
      " 6   Neighbourhood   110527 non-null  object \n",
      " 7   Scholarship     110527 non-null  int64  \n",
      " 8   Hipertension    110527 non-null  int64  \n",
      " 9   Diabetes        110527 non-null  int64  \n",
      " 10  Alcoholism      110527 non-null  int64  \n",
      " 11  Handcap         110527 non-null  int64  \n",
      " 12  SMS_received    110527 non-null  int64  \n",
      " 13  No-show         110527 non-null  object \n",
      "dtypes: float64(1), int64(8), object(5)\n",
      "memory usage: 11.8+ MB\n"
     ]
    }
   ],
   "source": [
    "df_health.info()"
   ]
  },
  {
   "cell_type": "markdown",
   "metadata": {},
   "source": [
    "There are no null values, sweet!"
   ]
  },
  {
   "cell_type": "markdown",
   "metadata": {},
   "source": [
    " However, The columns for scholarship, Hipertension (Hypertension lol), Diabetes, Alcoholism, Handcap (Handicap🤦‍♂️😂) and SMS_received are categorical and not supposed to be int type. \n",
    " \n",
    "Also, mathematical operations should not be done on the Patient and Appointment ID and so they can't be float or int. Let's fix these"
   ]
  },
  {
   "cell_type": "code",
   "execution_count": 6,
   "metadata": {},
   "outputs": [
    {
     "data": {
      "text/plain": [
       "Index(['PatientId', 'AppointmentID', 'Gender', 'ScheduledDay',\n",
       "       'AppointmentDay', 'Age', 'Neighbourhood', 'Scholarship', 'Hipertension',\n",
       "       'Diabetes', 'Alcoholism', 'Handcap', 'SMS_received', 'No-show'],\n",
       "      dtype='object')"
      ]
     },
     "execution_count": 6,
     "metadata": {},
     "output_type": "execute_result"
    }
   ],
   "source": [
    "df_health.columns"
   ]
  },
  {
   "cell_type": "code",
   "execution_count": 7,
   "metadata": {},
   "outputs": [],
   "source": [
    "df_health[['AppointmentID', 'PatientId', 'Scholarship', 'Hipertension',\n",
    "       'Diabetes', 'Alcoholism', 'Handcap', 'SMS_received']] = \\\n",
    "df_health[['AppointmentID', 'PatientId', 'Scholarship', 'Hipertension',\n",
    "       'Diabetes', 'Alcoholism', 'Handcap', 'SMS_received']].astype(object)"
   ]
  },
  {
   "cell_type": "markdown",
   "metadata": {},
   "source": [
    "Check to confirm that the changes have been made"
   ]
  },
  {
   "cell_type": "code",
   "execution_count": 8,
   "metadata": {
    "scrolled": true
   },
   "outputs": [
    {
     "name": "stdout",
     "output_type": "stream",
     "text": [
      "<class 'pandas.core.frame.DataFrame'>\n",
      "RangeIndex: 110527 entries, 0 to 110526\n",
      "Data columns (total 14 columns):\n",
      " #   Column          Non-Null Count   Dtype \n",
      "---  ------          --------------   ----- \n",
      " 0   PatientId       110527 non-null  object\n",
      " 1   AppointmentID   110527 non-null  object\n",
      " 2   Gender          110527 non-null  object\n",
      " 3   ScheduledDay    110527 non-null  object\n",
      " 4   AppointmentDay  110527 non-null  object\n",
      " 5   Age             110527 non-null  int64 \n",
      " 6   Neighbourhood   110527 non-null  object\n",
      " 7   Scholarship     110527 non-null  object\n",
      " 8   Hipertension    110527 non-null  object\n",
      " 9   Diabetes        110527 non-null  object\n",
      " 10  Alcoholism      110527 non-null  object\n",
      " 11  Handcap         110527 non-null  object\n",
      " 12  SMS_received    110527 non-null  object\n",
      " 13  No-show         110527 non-null  object\n",
      "dtypes: int64(1), object(13)\n",
      "memory usage: 11.8+ MB\n"
     ]
    }
   ],
   "source": [
    "df_health.info()"
   ]
  },
  {
   "cell_type": "markdown",
   "metadata": {},
   "source": [
    "Now let's check for duplicate values. We don't want to be redundant, do we?"
   ]
  },
  {
   "cell_type": "code",
   "execution_count": 9,
   "metadata": {
    "scrolled": true
   },
   "outputs": [
    {
     "data": {
      "text/plain": [
       "0"
      ]
     },
     "execution_count": 9,
     "metadata": {},
     "output_type": "execute_result"
    }
   ],
   "source": [
    "df_health.duplicated().sum()"
   ]
  },
  {
   "cell_type": "markdown",
   "metadata": {},
   "source": [
    "No Duplicates! This is my lucky day. Now let's just get an overview of the data"
   ]
  },
  {
   "cell_type": "code",
   "execution_count": 10,
   "metadata": {
    "scrolled": false
   },
   "outputs": [
    {
     "data": {
      "text/html": [
       "<div>\n",
       "<style scoped>\n",
       "    .dataframe tbody tr th:only-of-type {\n",
       "        vertical-align: middle;\n",
       "    }\n",
       "\n",
       "    .dataframe tbody tr th {\n",
       "        vertical-align: top;\n",
       "    }\n",
       "\n",
       "    .dataframe thead th {\n",
       "        text-align: right;\n",
       "    }\n",
       "</style>\n",
       "<table border=\"1\" class=\"dataframe\">\n",
       "  <thead>\n",
       "    <tr style=\"text-align: right;\">\n",
       "      <th></th>\n",
       "      <th>Age</th>\n",
       "    </tr>\n",
       "  </thead>\n",
       "  <tbody>\n",
       "    <tr>\n",
       "      <th>count</th>\n",
       "      <td>110527.000000</td>\n",
       "    </tr>\n",
       "    <tr>\n",
       "      <th>mean</th>\n",
       "      <td>37.088874</td>\n",
       "    </tr>\n",
       "    <tr>\n",
       "      <th>std</th>\n",
       "      <td>23.110205</td>\n",
       "    </tr>\n",
       "    <tr>\n",
       "      <th>min</th>\n",
       "      <td>-1.000000</td>\n",
       "    </tr>\n",
       "    <tr>\n",
       "      <th>25%</th>\n",
       "      <td>18.000000</td>\n",
       "    </tr>\n",
       "    <tr>\n",
       "      <th>50%</th>\n",
       "      <td>37.000000</td>\n",
       "    </tr>\n",
       "    <tr>\n",
       "      <th>75%</th>\n",
       "      <td>55.000000</td>\n",
       "    </tr>\n",
       "    <tr>\n",
       "      <th>max</th>\n",
       "      <td>115.000000</td>\n",
       "    </tr>\n",
       "  </tbody>\n",
       "</table>\n",
       "</div>"
      ],
      "text/plain": [
       "                 Age\n",
       "count  110527.000000\n",
       "mean       37.088874\n",
       "std        23.110205\n",
       "min        -1.000000\n",
       "25%        18.000000\n",
       "50%        37.000000\n",
       "75%        55.000000\n",
       "max       115.000000"
      ]
     },
     "execution_count": 10,
     "metadata": {},
     "output_type": "execute_result"
    }
   ],
   "source": [
    "df_health.describe()"
   ]
  },
  {
   "cell_type": "markdown",
   "metadata": {},
   "source": [
    "Hmm. What do we have here? The Minimum age -1? How could that be? Is that some antenatal type situation? Let's see how many appointments are like that"
   ]
  },
  {
   "cell_type": "code",
   "execution_count": 11,
   "metadata": {
    "scrolled": true
   },
   "outputs": [
    {
     "data": {
      "text/html": [
       "<div>\n",
       "<style scoped>\n",
       "    .dataframe tbody tr th:only-of-type {\n",
       "        vertical-align: middle;\n",
       "    }\n",
       "\n",
       "    .dataframe tbody tr th {\n",
       "        vertical-align: top;\n",
       "    }\n",
       "\n",
       "    .dataframe thead th {\n",
       "        text-align: right;\n",
       "    }\n",
       "</style>\n",
       "<table border=\"1\" class=\"dataframe\">\n",
       "  <thead>\n",
       "    <tr style=\"text-align: right;\">\n",
       "      <th></th>\n",
       "      <th>PatientId</th>\n",
       "      <th>AppointmentID</th>\n",
       "      <th>Gender</th>\n",
       "      <th>ScheduledDay</th>\n",
       "      <th>AppointmentDay</th>\n",
       "      <th>Age</th>\n",
       "      <th>Neighbourhood</th>\n",
       "      <th>Scholarship</th>\n",
       "      <th>Hipertension</th>\n",
       "      <th>Diabetes</th>\n",
       "      <th>Alcoholism</th>\n",
       "      <th>Handcap</th>\n",
       "      <th>SMS_received</th>\n",
       "      <th>No-show</th>\n",
       "    </tr>\n",
       "  </thead>\n",
       "  <tbody>\n",
       "    <tr>\n",
       "      <th>99832</th>\n",
       "      <td>465943158731293.0</td>\n",
       "      <td>5775010</td>\n",
       "      <td>F</td>\n",
       "      <td>2016-06-06T08:58:13Z</td>\n",
       "      <td>2016-06-06T00:00:00Z</td>\n",
       "      <td>-1</td>\n",
       "      <td>ROMÃO</td>\n",
       "      <td>0</td>\n",
       "      <td>0</td>\n",
       "      <td>0</td>\n",
       "      <td>0</td>\n",
       "      <td>0</td>\n",
       "      <td>0</td>\n",
       "      <td>No</td>\n",
       "    </tr>\n",
       "  </tbody>\n",
       "</table>\n",
       "</div>"
      ],
      "text/plain": [
       "               PatientId AppointmentID Gender          ScheduledDay  \\\n",
       "99832  465943158731293.0       5775010      F  2016-06-06T08:58:13Z   \n",
       "\n",
       "             AppointmentDay  Age Neighbourhood Scholarship Hipertension  \\\n",
       "99832  2016-06-06T00:00:00Z   -1         ROMÃO           0            0   \n",
       "\n",
       "      Diabetes Alcoholism Handcap SMS_received No-show  \n",
       "99832        0          0       0            0      No  "
      ]
     },
     "execution_count": 11,
     "metadata": {},
     "output_type": "execute_result"
    }
   ],
   "source": [
    "df_health[df_health['Age'] == -1]"
   ]
  },
  {
   "cell_type": "markdown",
   "metadata": {},
   "source": [
    "I don't know, I'll just drop that information since it's just one row. Nothing could go wrong, right?"
   ]
  },
  {
   "cell_type": "code",
   "execution_count": 12,
   "metadata": {},
   "outputs": [],
   "source": [
    "df_health = df_health[df_health['Age'] != -1]"
   ]
  },
  {
   "cell_type": "markdown",
   "metadata": {},
   "source": [
    "Now let's see"
   ]
  },
  {
   "cell_type": "code",
   "execution_count": 13,
   "metadata": {
    "scrolled": false
   },
   "outputs": [
    {
     "data": {
      "text/html": [
       "<div>\n",
       "<style scoped>\n",
       "    .dataframe tbody tr th:only-of-type {\n",
       "        vertical-align: middle;\n",
       "    }\n",
       "\n",
       "    .dataframe tbody tr th {\n",
       "        vertical-align: top;\n",
       "    }\n",
       "\n",
       "    .dataframe thead th {\n",
       "        text-align: right;\n",
       "    }\n",
       "</style>\n",
       "<table border=\"1\" class=\"dataframe\">\n",
       "  <thead>\n",
       "    <tr style=\"text-align: right;\">\n",
       "      <th></th>\n",
       "      <th>Age</th>\n",
       "    </tr>\n",
       "  </thead>\n",
       "  <tbody>\n",
       "    <tr>\n",
       "      <th>count</th>\n",
       "      <td>110526.000000</td>\n",
       "    </tr>\n",
       "    <tr>\n",
       "      <th>mean</th>\n",
       "      <td>37.089219</td>\n",
       "    </tr>\n",
       "    <tr>\n",
       "      <th>std</th>\n",
       "      <td>23.110026</td>\n",
       "    </tr>\n",
       "    <tr>\n",
       "      <th>min</th>\n",
       "      <td>0.000000</td>\n",
       "    </tr>\n",
       "    <tr>\n",
       "      <th>25%</th>\n",
       "      <td>18.000000</td>\n",
       "    </tr>\n",
       "    <tr>\n",
       "      <th>50%</th>\n",
       "      <td>37.000000</td>\n",
       "    </tr>\n",
       "    <tr>\n",
       "      <th>75%</th>\n",
       "      <td>55.000000</td>\n",
       "    </tr>\n",
       "    <tr>\n",
       "      <th>max</th>\n",
       "      <td>115.000000</td>\n",
       "    </tr>\n",
       "  </tbody>\n",
       "</table>\n",
       "</div>"
      ],
      "text/plain": [
       "                 Age\n",
       "count  110526.000000\n",
       "mean       37.089219\n",
       "std        23.110026\n",
       "min         0.000000\n",
       "25%        18.000000\n",
       "50%        37.000000\n",
       "75%        55.000000\n",
       "max       115.000000"
      ]
     },
     "execution_count": 13,
     "metadata": {},
     "output_type": "execute_result"
    }
   ],
   "source": [
    "df_health.describe()"
   ]
  },
  {
   "cell_type": "markdown",
   "metadata": {},
   "source": [
    "Awesome. One more thing. I'd like to put the patients into age groups and see how useful that would be for analysis. 0-9 in a group, 10-19, 20-29 etc."
   ]
  },
  {
   "cell_type": "code",
   "execution_count": 14,
   "metadata": {},
   "outputs": [],
   "source": [
    "#First make a list of age boundaries\n",
    "age_boundaries = [-1,9,19,29,39,49,59,69,79,89,99, 116]\n",
    "\n",
    "#Then make names for the age groups\n",
    "age_groups = ['0-9', '10-19', '20-29', '30-39', '40-49', '50-59', '60-69', '70-79', '80-89', '90-99', '100+']\n",
    "\n",
    "#Now create the age groups in the dataframe\n",
    "df_health['Age_group'] = pd.cut(df_health['Age'], age_boundaries, labels = age_groups)\n",
    "\n"
   ]
  },
  {
   "cell_type": "markdown",
   "metadata": {},
   "source": [
    "I made the bouldary start from -1 because if I put it at zero, all the babies aged 0 (about 3000 records) will be thrown away 😭😭. It has no relationship with the -1 which we have just dropped. This is also why I used 116 for the highest boundary while the highest age in this data is 115"
   ]
  },
  {
   "cell_type": "code",
   "execution_count": 15,
   "metadata": {
    "scrolled": false
   },
   "outputs": [
    {
     "data": {
      "text/html": [
       "<div>\n",
       "<style scoped>\n",
       "    .dataframe tbody tr th:only-of-type {\n",
       "        vertical-align: middle;\n",
       "    }\n",
       "\n",
       "    .dataframe tbody tr th {\n",
       "        vertical-align: top;\n",
       "    }\n",
       "\n",
       "    .dataframe thead th {\n",
       "        text-align: right;\n",
       "    }\n",
       "</style>\n",
       "<table border=\"1\" class=\"dataframe\">\n",
       "  <thead>\n",
       "    <tr style=\"text-align: right;\">\n",
       "      <th></th>\n",
       "      <th>PatientId</th>\n",
       "      <th>AppointmentID</th>\n",
       "      <th>Gender</th>\n",
       "      <th>ScheduledDay</th>\n",
       "      <th>AppointmentDay</th>\n",
       "      <th>Age</th>\n",
       "      <th>Neighbourhood</th>\n",
       "      <th>Scholarship</th>\n",
       "      <th>Hipertension</th>\n",
       "      <th>Diabetes</th>\n",
       "      <th>Alcoholism</th>\n",
       "      <th>Handcap</th>\n",
       "      <th>SMS_received</th>\n",
       "      <th>No-show</th>\n",
       "      <th>Age_group</th>\n",
       "    </tr>\n",
       "  </thead>\n",
       "  <tbody>\n",
       "    <tr>\n",
       "      <th>0</th>\n",
       "      <td>29872499824296.0</td>\n",
       "      <td>5642903</td>\n",
       "      <td>F</td>\n",
       "      <td>2016-04-29T18:38:08Z</td>\n",
       "      <td>2016-04-29T00:00:00Z</td>\n",
       "      <td>62</td>\n",
       "      <td>JARDIM DA PENHA</td>\n",
       "      <td>0</td>\n",
       "      <td>1</td>\n",
       "      <td>0</td>\n",
       "      <td>0</td>\n",
       "      <td>0</td>\n",
       "      <td>0</td>\n",
       "      <td>No</td>\n",
       "      <td>60-69</td>\n",
       "    </tr>\n",
       "    <tr>\n",
       "      <th>1</th>\n",
       "      <td>558997776694438.0</td>\n",
       "      <td>5642503</td>\n",
       "      <td>M</td>\n",
       "      <td>2016-04-29T16:08:27Z</td>\n",
       "      <td>2016-04-29T00:00:00Z</td>\n",
       "      <td>56</td>\n",
       "      <td>JARDIM DA PENHA</td>\n",
       "      <td>0</td>\n",
       "      <td>0</td>\n",
       "      <td>0</td>\n",
       "      <td>0</td>\n",
       "      <td>0</td>\n",
       "      <td>0</td>\n",
       "      <td>No</td>\n",
       "      <td>50-59</td>\n",
       "    </tr>\n",
       "    <tr>\n",
       "      <th>2</th>\n",
       "      <td>4262962299951.0</td>\n",
       "      <td>5642549</td>\n",
       "      <td>F</td>\n",
       "      <td>2016-04-29T16:19:04Z</td>\n",
       "      <td>2016-04-29T00:00:00Z</td>\n",
       "      <td>62</td>\n",
       "      <td>MATA DA PRAIA</td>\n",
       "      <td>0</td>\n",
       "      <td>0</td>\n",
       "      <td>0</td>\n",
       "      <td>0</td>\n",
       "      <td>0</td>\n",
       "      <td>0</td>\n",
       "      <td>No</td>\n",
       "      <td>60-69</td>\n",
       "    </tr>\n",
       "    <tr>\n",
       "      <th>3</th>\n",
       "      <td>867951213174.0</td>\n",
       "      <td>5642828</td>\n",
       "      <td>F</td>\n",
       "      <td>2016-04-29T17:29:31Z</td>\n",
       "      <td>2016-04-29T00:00:00Z</td>\n",
       "      <td>8</td>\n",
       "      <td>PONTAL DE CAMBURI</td>\n",
       "      <td>0</td>\n",
       "      <td>0</td>\n",
       "      <td>0</td>\n",
       "      <td>0</td>\n",
       "      <td>0</td>\n",
       "      <td>0</td>\n",
       "      <td>No</td>\n",
       "      <td>0-9</td>\n",
       "    </tr>\n",
       "    <tr>\n",
       "      <th>4</th>\n",
       "      <td>8841186448183.0</td>\n",
       "      <td>5642494</td>\n",
       "      <td>F</td>\n",
       "      <td>2016-04-29T16:07:23Z</td>\n",
       "      <td>2016-04-29T00:00:00Z</td>\n",
       "      <td>56</td>\n",
       "      <td>JARDIM DA PENHA</td>\n",
       "      <td>0</td>\n",
       "      <td>1</td>\n",
       "      <td>1</td>\n",
       "      <td>0</td>\n",
       "      <td>0</td>\n",
       "      <td>0</td>\n",
       "      <td>No</td>\n",
       "      <td>50-59</td>\n",
       "    </tr>\n",
       "  </tbody>\n",
       "</table>\n",
       "</div>"
      ],
      "text/plain": [
       "           PatientId AppointmentID Gender          ScheduledDay  \\\n",
       "0   29872499824296.0       5642903      F  2016-04-29T18:38:08Z   \n",
       "1  558997776694438.0       5642503      M  2016-04-29T16:08:27Z   \n",
       "2    4262962299951.0       5642549      F  2016-04-29T16:19:04Z   \n",
       "3     867951213174.0       5642828      F  2016-04-29T17:29:31Z   \n",
       "4    8841186448183.0       5642494      F  2016-04-29T16:07:23Z   \n",
       "\n",
       "         AppointmentDay  Age      Neighbourhood Scholarship Hipertension  \\\n",
       "0  2016-04-29T00:00:00Z   62    JARDIM DA PENHA           0            1   \n",
       "1  2016-04-29T00:00:00Z   56    JARDIM DA PENHA           0            0   \n",
       "2  2016-04-29T00:00:00Z   62      MATA DA PRAIA           0            0   \n",
       "3  2016-04-29T00:00:00Z    8  PONTAL DE CAMBURI           0            0   \n",
       "4  2016-04-29T00:00:00Z   56    JARDIM DA PENHA           0            1   \n",
       "\n",
       "  Diabetes Alcoholism Handcap SMS_received No-show Age_group  \n",
       "0        0          0       0            0      No     60-69  \n",
       "1        0          0       0            0      No     50-59  \n",
       "2        0          0       0            0      No     60-69  \n",
       "3        0          0       0            0      No       0-9  \n",
       "4        1          0       0            0      No     50-59  "
      ]
     },
     "execution_count": 15,
     "metadata": {},
     "output_type": "execute_result"
    }
   ],
   "source": [
    "df_health.head()"
   ]
  },
  {
   "cell_type": "markdown",
   "metadata": {},
   "source": [
    "Let's confirm that there are no null values"
   ]
  },
  {
   "cell_type": "code",
   "execution_count": 16,
   "metadata": {},
   "outputs": [
    {
     "name": "stdout",
     "output_type": "stream",
     "text": [
      "<class 'pandas.core.frame.DataFrame'>\n",
      "Int64Index: 110526 entries, 0 to 110526\n",
      "Data columns (total 15 columns):\n",
      " #   Column          Non-Null Count   Dtype   \n",
      "---  ------          --------------   -----   \n",
      " 0   PatientId       110526 non-null  object  \n",
      " 1   AppointmentID   110526 non-null  object  \n",
      " 2   Gender          110526 non-null  object  \n",
      " 3   ScheduledDay    110526 non-null  object  \n",
      " 4   AppointmentDay  110526 non-null  object  \n",
      " 5   Age             110526 non-null  int64   \n",
      " 6   Neighbourhood   110526 non-null  object  \n",
      " 7   Scholarship     110526 non-null  object  \n",
      " 8   Hipertension    110526 non-null  object  \n",
      " 9   Diabetes        110526 non-null  object  \n",
      " 10  Alcoholism      110526 non-null  object  \n",
      " 11  Handcap         110526 non-null  object  \n",
      " 12  SMS_received    110526 non-null  object  \n",
      " 13  No-show         110526 non-null  object  \n",
      " 14  Age_group       110526 non-null  category\n",
      "dtypes: category(1), int64(1), object(13)\n",
      "memory usage: 12.8+ MB\n"
     ]
    }
   ],
   "source": [
    "df_health.info()"
   ]
  },
  {
   "cell_type": "markdown",
   "metadata": {},
   "source": [
    "Awesome. Now let's take a deep dive into the data. Brace up!"
   ]
  },
  {
   "cell_type": "markdown",
   "metadata": {},
   "source": [
    "\n",
    "\n",
    "### Data Cleaning: Rename Columns"
   ]
  },
  {
   "cell_type": "markdown",
   "metadata": {},
   "source": [
    "Hold up. Before the dive, let's now rename the 'No-show' column. Leaving it like this will make retriving data from it in future, somewhat tedious. We'll change the hyphen to an underscore"
   ]
  },
  {
   "cell_type": "code",
   "execution_count": 17,
   "metadata": {},
   "outputs": [
    {
     "data": {
      "text/plain": [
       "Index(['PatientId', 'AppointmentID', 'Gender', 'ScheduledDay',\n",
       "       'AppointmentDay', 'Age', 'Neighbourhood', 'Scholarship', 'Hipertension',\n",
       "       'Diabetes', 'Alcoholism', 'Handcap', 'SMS_received', 'No_show',\n",
       "       'Age_group'],\n",
       "      dtype='object')"
      ]
     },
     "execution_count": 17,
     "metadata": {},
     "output_type": "execute_result"
    }
   ],
   "source": [
    "df_health = df_health.rename(columns = {'No-show': 'No_show'})\n",
    "df_health.columns"
   ]
  },
  {
   "cell_type": "markdown",
   "metadata": {},
   "source": [
    "Good, Now let's explore"
   ]
  },
  {
   "cell_type": "markdown",
   "metadata": {},
   "source": [
    "<a id='eda'></a>\n",
    "## Exploratory Data Analysis\n",
    "\n",
    "\n",
    "\n",
    "### Research Question 1: Which gender showed up the most for their appointments?"
   ]
  },
  {
   "cell_type": "markdown",
   "metadata": {},
   "source": [
    "Let's first see the gender distribution"
   ]
  },
  {
   "cell_type": "code",
   "execution_count": 18,
   "metadata": {},
   "outputs": [
    {
     "data": {
      "text/plain": [
       "F    71839\n",
       "M    38687\n",
       "Name: Gender, dtype: int64"
      ]
     },
     "execution_count": 18,
     "metadata": {},
     "output_type": "execute_result"
    }
   ],
   "source": [
    "df_health['Gender'].value_counts()"
   ]
  },
  {
   "cell_type": "markdown",
   "metadata": {},
   "source": [
    "So there's a lot more women than men here. To get an accurate overview, we'll have to look at the proportion of eacy gender who showed up and not just the count"
   ]
  },
  {
   "cell_type": "code",
   "execution_count": 19,
   "metadata": {},
   "outputs": [],
   "source": [
    "#TO get a dataFrame containing only those who went for their appointments\n",
    "df_show_up = df_health.query( \"No_show== 'No' \")"
   ]
  },
  {
   "cell_type": "markdown",
   "metadata": {},
   "source": [
    "If we hadn't changed the 'No-show' column name to 'No_show', we would have gotten an error at this stage"
   ]
  },
  {
   "cell_type": "code",
   "execution_count": 20,
   "metadata": {},
   "outputs": [],
   "source": [
    "show_up_by_gender =df_show_up['Gender'].value_counts()/df_health['Gender'].value_counts()"
   ]
  },
  {
   "cell_type": "markdown",
   "metadata": {},
   "source": [
    "This gives us the proportion of patients showing up to appointments, broken down by gender"
   ]
  },
  {
   "cell_type": "code",
   "execution_count": 21,
   "metadata": {},
   "outputs": [
    {
     "data": {
      "text/plain": [
       "F    79.685129\n",
       "M    80.032052\n",
       "Name: Gender, dtype: float64"
      ]
     },
     "execution_count": 21,
     "metadata": {},
     "output_type": "execute_result"
    }
   ],
   "source": [
    "show_up_by_gender*100"
   ]
  },
  {
   "cell_type": "markdown",
   "metadata": {},
   "source": [
    "Now let's put this on a bar chart"
   ]
  },
  {
   "cell_type": "code",
   "execution_count": 22,
   "metadata": {
    "scrolled": true
   },
   "outputs": [
    {
     "data": {
      "image/png": "[encoded data removed]",
      "text/plain": [
       "<Figure size 432x288 with 1 Axes>"
      ]
     },
     "metadata": {
      "needs_background": "light"
     },
     "output_type": "display_data"
    }
   ],
   "source": [
    "plt.bar(['Female', 'Male'], show_up_by_gender*100)\n",
    "plt.xlabel('Gender')\n",
    "plt.ylabel(\"Percentage of show up's\")\n",
    "plt.title(\"Gender showup distribution\")\n",
    "plt.show()"
   ]
  },
  {
   "cell_type": "markdown",
   "metadata": {},
   "source": [
    "The difference isn't quite clear. Let's try a line plot"
   ]
  },
  {
   "cell_type": "code",
   "execution_count": 23,
   "metadata": {
    "scrolled": false
   },
   "outputs": [
    {
     "data": {
      "image/png": "[encoded data removed]",
      "text/plain": [
       "<Figure size 432x288 with 1 Axes>"
      ]
     },
     "metadata": {
      "needs_background": "light"
     },
     "output_type": "display_data"
    }
   ],
   "source": [
    "plt.plot(show_up_by_gender*100)\n",
    "plt.xlabel('Gender')\n",
    "plt.ylabel(\"Percentage of show up's\")\n",
    "plt.title(\"Gender showup distribution\")\n",
    "\n",
    "plt.show()"
   ]
  },
  {
   "cell_type": "markdown",
   "metadata": {},
   "source": [
    "There. We see that roughly 80% of both genders showed up for their appointments with men showing up just slightly more"
   ]
  },
  {
   "cell_type": "markdown",
   "metadata": {},
   "source": [
    "### Research Question 2:  What are the locations with the highest number of patients?"
   ]
  },
  {
   "cell_type": "markdown",
   "metadata": {},
   "source": [
    "Here we want to find the neighborhood hospitals with the highest number of patients (Not appointments)"
   ]
  },
  {
   "cell_type": "code",
   "execution_count": 25,
   "metadata": {},
   "outputs": [
    {
     "data": {
      "text/plain": [
       "Neighbourhood\n",
       "JARDIM CAMBURI                 4192\n",
       "MARIA ORTIZ                    3336\n",
       "JARDIM DA PENHA                2406\n",
       "RESISTÊNCIA                    2373\n",
       "ITARARÉ                        2136\n",
       "                               ... \n",
       "ILHA DO BOI                      22\n",
       "AEROPORTO                         7\n",
       "ILHA DO FRADE                     5\n",
       "ILHAS OCEÂNICAS DE TRINDADE       2\n",
       "PARQUE INDUSTRIAL                 1\n",
       "Name: PatientId, Length: 81, dtype: int64"
      ]
     },
     "execution_count": 25,
     "metadata": {},
     "output_type": "execute_result"
    }
   ],
   "source": [
    "# Count number of unique patient IDs per neighbourhood\n",
    "unique_patients_per_neighborhood = df_health.groupby('Neighbourhood')['PatientId'].nunique().sort_values(ascending = True)\n",
    "unique_patients_per_neighborhood.sort_values(ascending=False)"
   ]
  },
  {
   "cell_type": "markdown",
   "metadata": {},
   "source": [
    "Let's see the highest 10"
   ]
  },
  {
   "cell_type": "code",
   "execution_count": 26,
   "metadata": {
    "scrolled": true
   },
   "outputs": [
    {
     "data": {
      "image/png": "[encoded data removed]",
      "text/plain": [
       "<Figure size 1080x648 with 1 Axes>"
      ]
     },
     "metadata": {
      "needs_background": "light"
     },
     "output_type": "display_data"
    }
   ],
   "source": [
    "plt.subplots(figsize = (15, 9))\n",
    "plt.barh(y = unique_patients_per_neighborhood[-10:].index, width = unique_patients_per_neighborhood[-10:])\n",
    "plt.xlabel('Number of Patients',fontsize = 15)\n",
    "plt.ylabel('Neighborhood', fontsize = 15)\n",
    "plt.title('Top 10 Neigborhoods by Number of Patients');"
   ]
  },
  {
   "cell_type": "markdown",
   "metadata": {},
   "source": [
    "So Jardim Camburi seems to be the busiest hospital"
   ]
  },
  {
   "cell_type": "markdown",
   "metadata": {},
   "source": [
    "### Research Question 3: Which age group had the most appointments?\n"
   ]
  },
  {
   "cell_type": "markdown",
   "metadata": {},
   "source": [
    "We already saw that women have more appointments than men. Quite reasonable since they have a wider variety of medical needs. However, Which age group came to hospital most often? Is it the grandparents? Lets find out."
   ]
  },
  {
   "cell_type": "code",
   "execution_count": 27,
   "metadata": {
    "scrolled": true
   },
   "outputs": [
    {
     "data": {
      "image/png": "[encoded data removed]",
      "text/plain": [
       "<Figure size 432x288 with 1 Axes>"
      ]
     },
     "metadata": {
      "needs_background": "light"
     },
     "output_type": "display_data"
    }
   ],
   "source": [
    "#A histogram will do the job for us\n",
    "plt.hist(df_health['Age'])\n",
    "plt.xlabel('Age')\n",
    "plt.ylabel('Number of Appointments');"
   ]
  },
  {
   "cell_type": "code",
   "execution_count": 28,
   "metadata": {
    "scrolled": true
   },
   "outputs": [
    {
     "data": {
      "image/png": "[encoded data removed]",
      "text/plain": [
       "<Figure size 432x288 with 1 Axes>"
      ]
     },
     "metadata": {
      "needs_background": "light"
     },
     "output_type": "display_data"
    }
   ],
   "source": [
    "plt.hist(df_show_up['Age']);"
   ]
  },
  {
   "cell_type": "markdown",
   "metadata": {},
   "source": [
    "We see that Chidren between the ages of 0 and 10 had the most appointments, followed by people between 50 and 60. So it isn't the grandparents, huh"
   ]
  },
  {
   "cell_type": "markdown",
   "metadata": {},
   "source": [
    "### Research Question 4: Which age group showed up for appointments most frequently?\n"
   ]
  },
  {
   "cell_type": "markdown",
   "metadata": {},
   "source": [
    "I see. Here's definetely where the grandparents should stand out since they require lots of medical attention. We want to see the average numer of appointments per person in each age group"
   ]
  },
  {
   "cell_type": "code",
   "execution_count": 29,
   "metadata": {
    "scrolled": true
   },
   "outputs": [
    {
     "data": {
      "text/plain": [
       "Age_group\n",
       "0-9      10596\n",
       "10-19     7429\n",
       "20-29     7625\n",
       "30-39     8165\n",
       "40-49     7667\n",
       "50-59     8720\n",
       "60-69     6724\n",
       "70-79     3510\n",
       "80-89     1730\n",
       "90-99      241\n",
       "100+         7\n",
       "Name: PatientId, dtype: int64"
      ]
     },
     "execution_count": 29,
     "metadata": {},
     "output_type": "execute_result"
    }
   ],
   "source": [
    "#Find the number of patients in each age group\n",
    "patients_age_group = df_health.groupby('Age_group')['PatientId'].nunique()\n",
    "patients_age_group\n",
    "#If we use count in place of nunique,\n",
    "#it will count some patients more than once because of multiple appearance (multiple appointments)"
   ]
  },
  {
   "cell_type": "code",
   "execution_count": 30,
   "metadata": {
    "scrolled": true
   },
   "outputs": [
    {
     "data": {
      "text/plain": [
       "Age_group\n",
       "0-9      17475\n",
       "10-19    12936\n",
       "20-29    13699\n",
       "30-39    15171\n",
       "40-49    14209\n",
       "50-59    15863\n",
       "60-69    11876\n",
       "70-79     5934\n",
       "80-89     2946\n",
       "90-99      406\n",
       "100+        11\n",
       "Name: AppointmentID, dtype: int64"
      ]
     },
     "execution_count": 30,
     "metadata": {},
     "output_type": "execute_result"
    }
   ],
   "source": [
    "#Find the number of appointments made by each age group\n",
    "appointments_age_group = df_health.groupby('Age_group')['AppointmentID'].count()\n",
    "appointments_age_group"
   ]
  },
  {
   "cell_type": "code",
   "execution_count": 31,
   "metadata": {
    "scrolled": true
   },
   "outputs": [
    {
     "data": {
      "text/plain": [
       "PatientId         110526\n",
       "AppointmentID     110526\n",
       "Gender            110526\n",
       "ScheduledDay      110526\n",
       "AppointmentDay    110526\n",
       "Age               110526\n",
       "Neighbourhood     110526\n",
       "Scholarship       110526\n",
       "Hipertension      110526\n",
       "Diabetes          110526\n",
       "Alcoholism        110526\n",
       "Handcap           110526\n",
       "SMS_received      110526\n",
       "No_show           110526\n",
       "Age_group         110526\n",
       "dtype: int64"
      ]
     },
     "execution_count": 31,
     "metadata": {},
     "output_type": "execute_result"
    }
   ],
   "source": [
    "df_health.groupby('Age_group')[df_health.columns].count().sum()"
   ]
  },
  {
   "cell_type": "code",
   "execution_count": null,
   "metadata": {},
   "outputs": [],
   "source": []
  },
  {
   "cell_type": "code",
   "execution_count": 32,
   "metadata": {},
   "outputs": [
    {
     "data": {
      "text/plain": [
       "110526"
      ]
     },
     "execution_count": 32,
     "metadata": {},
     "output_type": "execute_result"
    }
   ],
   "source": [
    "len(df_health)"
   ]
  },
  {
   "cell_type": "code",
   "execution_count": 33,
   "metadata": {},
   "outputs": [
    {
     "data": {
      "text/plain": [
       "110526"
      ]
     },
     "execution_count": 33,
     "metadata": {},
     "output_type": "execute_result"
    }
   ],
   "source": [
    "appointments_age_group.sum()"
   ]
  },
  {
   "cell_type": "code",
   "execution_count": 34,
   "metadata": {
    "scrolled": true
   },
   "outputs": [
    {
     "data": {
      "text/plain": [
       "Age_group\n",
       "0-9      1.649207\n",
       "10-19    1.741284\n",
       "20-29    1.796590\n",
       "30-39    1.858053\n",
       "40-49    1.853267\n",
       "50-59    1.819151\n",
       "60-69    1.766211\n",
       "70-79    1.690598\n",
       "80-89    1.702890\n",
       "90-99    1.684647\n",
       "100+     1.571429\n",
       "dtype: float64"
      ]
     },
     "execution_count": 34,
     "metadata": {},
     "output_type": "execute_result"
    }
   ],
   "source": [
    "Appointment_frequency_age_group = appointments_age_group/patients_age_group\n",
    "Appointment_frequency_age_group"
   ]
  },
  {
   "cell_type": "markdown",
   "metadata": {},
   "source": [
    "This should look great on a bar chart. Let's make a function to plot this kind of data on a bar chart because I'd like us to do another exploration of this sort in future."
   ]
  },
  {
   "cell_type": "code",
   "execution_count": 35,
   "metadata": {},
   "outputs": [],
   "source": [
    "def age_compare_bar(series = None, figures = 2, add_annotate = '', xlabel = None, ylabel = 'Age Group', title = None):\n",
    "    plt.subplots(figsize = (15,6))\n",
    "    y = list(range(len(series)))\n",
    "    plt.barh(y = y, width = series, tick_label = series.index)\n",
    "    for position in y:\n",
    "        plt.annotate(str(round(series[position], figures))+ add_annotate, xy=(series[position],y[position]))\n",
    "    plt.xlabel(xlabel, fontsize = 16)\n",
    "    plt.ylabel(ylabel, fontsize = 16)\n",
    "    plt.title(title, fontsize = 20)\n",
    "    plt.show()"
   ]
  },
  {
   "cell_type": "code",
   "execution_count": 36,
   "metadata": {},
   "outputs": [
    {
     "data": {
      "image/png": "[encoded data removed]",
      "text/plain": [
       "<Figure size 1080x432 with 1 Axes>"
      ]
     },
     "metadata": {
      "needs_background": "light"
     },
     "output_type": "display_data"
    }
   ],
   "source": [
    "age_compare_bar(series = Appointment_frequency_age_group,\n",
    "                xlabel = 'Frequency',\n",
    "                title = 'Appointment Frequency for each Age group')"
   ]
  },
  {
   "cell_type": "markdown",
   "metadata": {},
   "source": [
    "Interestingly, the people above 100 years old have the least appointment frequency! They probably have some form of home treatment because my 95 year old granny needs medical attention quite frequently. Also, The thirties have the highest frequency! This is so not what I'd have guessed. Well, now we know."
   ]
  },
  {
   "cell_type": "markdown",
   "metadata": {},
   "source": [
    "### Research Question 5: Which age group was most likely to miss an appointment?\n"
   ]
  },
  {
   "cell_type": "markdown",
   "metadata": {},
   "source": [
    "My guess is, The working class people. Reason: Work. \n",
    "\n",
    "To Make things easy, we'll make a new dataframe, containing only people who missed their appointments"
   ]
  },
  {
   "cell_type": "code",
   "execution_count": 37,
   "metadata": {},
   "outputs": [],
   "source": [
    "df_no_show = df_health.query(\"No_show == 'Yes'\")"
   ]
  },
  {
   "cell_type": "code",
   "execution_count": 38,
   "metadata": {
    "scrolled": true
   },
   "outputs": [
    {
     "data": {
      "text/plain": [
       "Age_group\n",
       "0-9      3484\n",
       "10-19    3257\n",
       "20-29    3380\n",
       "30-39    3300\n",
       "40-49    2880\n",
       "50-59    2776\n",
       "60-69    1790\n",
       "70-79     902\n",
       "80-89     465\n",
       "90-99      82\n",
       "100+        3\n",
       "Name: AppointmentID, dtype: int64"
      ]
     },
     "execution_count": 38,
     "metadata": {},
     "output_type": "execute_result"
    }
   ],
   "source": [
    "# count the number of no_shows for each age group\n",
    "no_show_age_group = df_no_show.groupby('Age_group')['AppointmentID'].count()\n",
    "no_show_age_group"
   ]
  },
  {
   "cell_type": "code",
   "execution_count": 39,
   "metadata": {},
   "outputs": [
    {
     "data": {
      "text/plain": [
       "Age_group\n",
       "0-9      19.937053\n",
       "10-19    25.177798\n",
       "20-29    24.673334\n",
       "30-39    21.752027\n",
       "40-49    20.268844\n",
       "50-59    17.499842\n",
       "60-69    15.072415\n",
       "70-79    15.200539\n",
       "80-89    15.784114\n",
       "90-99    20.197044\n",
       "100+     27.272727\n",
       "Name: AppointmentID, dtype: float64"
      ]
     },
     "execution_count": 39,
     "metadata": {},
     "output_type": "execute_result"
    }
   ],
   "source": [
    "#divide the number of no shows by the number of appointments to get the proportion of appointments which were no shows\n",
    "no_show_proportion_age_group = (no_show_age_group/appointments_age_group)*100\n",
    "no_show_proportion_age_group"
   ]
  },
  {
   "cell_type": "code",
   "execution_count": 40,
   "metadata": {
    "scrolled": true
   },
   "outputs": [
    {
     "data": {
      "image/png": "[encoded data removed]",
      "text/plain": [
       "<Figure size 1080x432 with 1 Axes>"
      ]
     },
     "metadata": {
      "needs_background": "light"
     },
     "output_type": "display_data"
    }
   ],
   "source": [
    "age_compare_bar(series = no_show_proportion_age_group, add_annotate='%',\n",
    "                figures=2,\n",
    "                xlabel = 'Percentage No-show',\n",
    "                title = 'Percentage of appointments missed by Age Group')"
   ]
  },
  {
   "cell_type": "markdown",
   "metadata": {},
   "source": [
    "Unsuprisingly, The people aged over 100 missed a quite significant proportion of their appointments. Give them a break, moving around at that age isn't the most pleasant thing.\n",
    "\n",
    "It is surprising however that the young people between 10 and 20 missed a quarter of their appointments. The 30-50 year olds defied my expectations, again😌. Those between 60-80 missed the least appointments. Is that the period in life where the fear of passing on is strongest? lol"
   ]
  },
  {
   "cell_type": "markdown",
   "metadata": {},
   "source": [
    "### Research Question 6: Is any neighborhood associated with older or younger patients?\n"
   ]
  },
  {
   "cell_type": "markdown",
   "metadata": {},
   "source": [
    "Let's see if there are any \"old people's homes\" included in our available list of hospital neighborhood. A scatterplot of age distribution should give us an idea"
   ]
  },
  {
   "cell_type": "code",
   "execution_count": 41,
   "metadata": {
    "scrolled": true
   },
   "outputs": [
    {
     "data": {
      "image/png": "[encoded data removed]",
      "text/plain": [
       "<Figure size 2160x720 with 1 Axes>"
      ]
     },
     "metadata": {
      "needs_background": "light"
     },
     "output_type": "display_data"
    }
   ],
   "source": [
    "plt.subplots(figsize = (30, 10))\n",
    "plt.scatter(x = df_health['Neighbourhood'].sort_values(), y = df_health.sort_values(by = 'Neighbourhood')['Age'])\n",
    "plt.xticks(rotation = -90);"
   ]
  },
  {
   "cell_type": "markdown",
   "metadata": {},
   "source": [
    "There doesn't seem to be any old people's homes as there isn't a distictly clear variation in age distribution between the hospitals"
   ]
  },
  {
   "cell_type": "markdown",
   "metadata": {},
   "source": [
    "### Research Question 7: Were people enroled in the brazillian welfare program ('scholarship') more likely to show up for their appontments?\n"
   ]
  },
  {
   "cell_type": "code",
   "execution_count": 42,
   "metadata": {
    "scrolled": true
   },
   "outputs": [
    {
     "data": {
      "text/plain": [
       "No     79.806561\n",
       "Yes    20.193439\n",
       "Name: No_show, dtype: float64"
      ]
     },
     "execution_count": 42,
     "metadata": {},
     "output_type": "execute_result"
    }
   ],
   "source": [
    "#This displays the percentage of appointments not showed up for, generally\n",
    "(df_health['No_show'].value_counts()/len(df_health))*100"
   ]
  },
  {
   "cell_type": "markdown",
   "metadata": {},
   "source": [
    "Don't get confused. If No_show is 'No', it means that the person did show up. If No_Show is 'Yes', the person didn't show up"
   ]
  },
  {
   "cell_type": "code",
   "execution_count": 43,
   "metadata": {},
   "outputs": [
    {
     "data": {
      "text/plain": [
       "No     76.263696\n",
       "Yes    23.736304\n",
       "Name: No_show, dtype: float64"
      ]
     },
     "execution_count": 43,
     "metadata": {},
     "output_type": "execute_result"
    }
   ],
   "source": [
    "df_scholarship = df_health.query( \"Scholarship== 1 \")\n",
    "scholarship_show = df_scholarship['No_show'].value_counts()/len(df_scholarship)\n",
    "scholarship_show*100\n",
    "#This displays the percentage of appointments either showed up for or not by people on the healthcare scheme"
   ]
  },
  {
   "cell_type": "code",
   "execution_count": 44,
   "metadata": {},
   "outputs": [
    {
     "data": {
      "text/plain": [
       "No     0.802\n",
       "Yes    0.198\n",
       "Name: No_show, dtype: float64"
      ]
     },
     "execution_count": 44,
     "metadata": {},
     "output_type": "execute_result"
    }
   ],
   "source": [
    "df_no_scholarship = df_health.query( \"Scholarship== 0 \")\n",
    "no_scholarship_show = df_no_scholarship['No_show'].value_counts()/len(df_no_scholarship)\n",
    "no_scholarship_show.round(3)\n",
    "#This displays the percentage of appointments either showed up for or not by people NOT on the healthcare scheme"
   ]
  },
  {
   "cell_type": "markdown",
   "metadata": {},
   "source": [
    "Now let's represent this on a bar chart"
   ]
  },
  {
   "cell_type": "markdown",
   "metadata": {},
   "source": [
    "I made a function to plot this kind of comparative graph since I used the same pattern more than once. Here it is"
   ]
  },
  {
   "cell_type": "code",
   "execution_count": 45,
   "metadata": {},
   "outputs": [],
   "source": [
    "def compare_bar(series_a, series_b, xlabel, ylabel, title, legend_a, legend_b):\n",
    "\n",
    "    labels = list(series_a.index)\n",
    "    positions = np.array(range(len(labels)))\n",
    "\n",
    "    heights = list(series_a.values)\n",
    "    width = 0.2\n",
    "    \n",
    "    plt.bar(positions + width/2, heights , tick_label = labels,\n",
    "            width = width, label = legend_a )\n",
    "    plt.legend();\n",
    "\n",
    "\n",
    "    labels = list(series_b.index)\n",
    "    positions = np.array(range(len(labels)))\n",
    "\n",
    "    heights = list(series_b.values)\n",
    "    width = 0.2\n",
    "    plt.bar(positions + width*1.5, heights , tick_label = labels, \n",
    "            width = width, label = legend_b )\n",
    "    plt.xlabel(xlabel, fontsize = 16)\n",
    "    plt.xticks(rotation = 90)\n",
    "    plt.ylabel(ylabel, fontsize = 16)\n",
    "    plt.yticks(ticks = [0.1, 0.2, 0.3, 0.4, 0.5, 0.6, 0.7, 0.8, 0.9], labels = [10,20,30,40,50,60,70,80,90]);\n",
    "    plt.title(title, fontsize = 22)\n",
    "    plt.legend();\n",
    "    \n"
   ]
  },
  {
   "cell_type": "code",
   "execution_count": 46,
   "metadata": {},
   "outputs": [
    {
     "data": {
      "image/png": "[encoded data removed]",
      "text/plain": [
       "<Figure size 432x288 with 1 Axes>"
      ]
     },
     "metadata": {
      "needs_background": "light"
     },
     "output_type": "display_data"
    }
   ],
   "source": [
    "compare_bar(scholarship_show, no_scholarship_show, 'Did not Show up', 'Patients Percentage',\n",
    "            \"Percentage of 'show ups' by Welfare program participation\", legend_a= 'Enrolled', legend_b='Not Enrolled')"
   ]
  },
  {
   "cell_type": "markdown",
   "metadata": {},
   "source": [
    "80.2% of people who aren't enrolled in the welfare program showed up for their appointments. For people who were enrolled, the show up rate was 76.2%''So people who enrolled in the program did show up less. Not suprising at all."
   ]
  },
  {
   "cell_type": "markdown",
   "metadata": {},
   "source": [
    "### Research Question 8: Did people who received SMS show up more for their appointments? \n"
   ]
  },
  {
   "cell_type": "markdown",
   "metadata": {},
   "source": [
    "Here, we'll need to seperate those who received SMS from those who didn't"
   ]
  },
  {
   "cell_type": "code",
   "execution_count": 47,
   "metadata": {},
   "outputs": [],
   "source": [
    "#Subset Dataframe of thosw who received sms\n",
    "df_sms = df_health[df_health['SMS_received']== 1]\n",
    "\n",
    "#Thiose who didn't receive is all others\n",
    "df_no_sms = df_health.drop(index=df_sms.index)\n",
    "received_sms = df_sms['No_show'].value_counts()/len(df_sms)\n",
    "\n",
    "not_received_sms = df_no_sms['No_show'].value_counts()/len(df_no_sms)\n"
   ]
  },
  {
   "cell_type": "code",
   "execution_count": 48,
   "metadata": {},
   "outputs": [
    {
     "data": {
      "text/plain": [
       "No     0.724255\n",
       "Yes    0.275745\n",
       "Name: No_show, dtype: float64"
      ]
     },
     "execution_count": 48,
     "metadata": {},
     "output_type": "execute_result"
    }
   ],
   "source": [
    "received_sms\n",
    "#This displayed the percentage of people who received sms. No means the person showed up"
   ]
  },
  {
   "cell_type": "code",
   "execution_count": 49,
   "metadata": {
    "scrolled": true
   },
   "outputs": [
    {
     "data": {
      "text/plain": [
       "No     0.832965\n",
       "Yes    0.167035\n",
       "Name: No_show, dtype: float64"
      ]
     },
     "execution_count": 49,
     "metadata": {},
     "output_type": "execute_result"
    }
   ],
   "source": [
    "not_received_sms"
   ]
  },
  {
   "cell_type": "markdown",
   "metadata": {},
   "source": [
    "Now, the bar plot"
   ]
  },
  {
   "cell_type": "code",
   "execution_count": 50,
   "metadata": {
    "scrolled": true
   },
   "outputs": [
    {
     "data": {
      "image/png": "[encoded data removed]",
      "text/plain": [
       "<Figure size 432x288 with 1 Axes>"
      ]
     },
     "metadata": {
      "needs_background": "light"
     },
     "output_type": "display_data"
    }
   ],
   "source": [
    "compare_bar(received_sms, not_received_sms, 'Did not Show up', 'Patients Percentage',\n",
    "            \"Percentage of 'show ups' by SMS Receipt\", legend_a= 'Received sms', legend_b='Did not Receive Sms')"
   ]
  },
  {
   "cell_type": "markdown",
   "metadata": {},
   "source": [
    "I honestly thought an SMS would make you more likely to show up for an appointment. Funny enough, that is not the case gere. People who received SMS showed up less frequently than people who didn't. Quite interesting"
   ]
  },
  {
   "cell_type": "markdown",
   "metadata": {},
   "source": [
    "### Research Question 9: Which Neighborhood hospital had the most handicaps? Is there an indication that there is a special hospital for handicaps?\n"
   ]
  },
  {
   "cell_type": "code",
   "execution_count": 51,
   "metadata": {},
   "outputs": [
    {
     "data": {
      "text/plain": [
       "Neighbourhood\n",
       "SANTA MARTHA       103\n",
       "SANTO ANTÔNIO      101\n",
       "RESISTÊNCIA         88\n",
       "CENTRO              86\n",
       "ANDORINHAS          81\n",
       "                  ... \n",
       "MONTE BELO           2\n",
       "SANTA LÚCIA          2\n",
       "SANTOS REIS          1\n",
       "ANTÔNIO HONÓRIO      1\n",
       "COMDUSA              1\n",
       "Name: PatientId, Length: 70, dtype: int64"
      ]
     },
     "execution_count": 51,
     "metadata": {},
     "output_type": "execute_result"
    }
   ],
   "source": [
    "#Create new dataframe containing only patients who are handicaped\n",
    "df_handicap = df_health[df_health[\"Handcap\"] != 0]\n",
    "df_health['Handcap'].value_counts()\n",
    "df_handicap['Handcap'].value_counts()\n",
    "\n",
    "count_handicap_per_neighborhood = df_handicap.groupby('Neighbourhood')['PatientId'].count().sort_values(ascending = True)\n",
    "count_handicap_per_neighborhood.sort_values(ascending=False)"
   ]
  },
  {
   "cell_type": "code",
   "execution_count": 52,
   "metadata": {},
   "outputs": [],
   "source": [
    "no_of_handicaps_per_neigh = df_handicap.groupby('Neighbourhood')['PatientId'].nunique().sort_index()"
   ]
  },
  {
   "cell_type": "code",
   "execution_count": 53,
   "metadata": {},
   "outputs": [],
   "source": [
    "no_of_patients = df_health.groupby('Neighbourhood')['PatientId'].nunique().sort_index()"
   ]
  },
  {
   "cell_type": "code",
   "execution_count": 54,
   "metadata": {
    "scrolled": true
   },
   "outputs": [],
   "source": [
    "percentage_handicap_by_neighborhood = (no_of_handicaps_per_neigh/no_of_patients).sort_values(ascending  = True)*100\n",
    "percentage_handicap_by_neighborhood.dropna(inplace = True)"
   ]
  },
  {
   "cell_type": "code",
   "execution_count": 55,
   "metadata": {
    "scrolled": true
   },
   "outputs": [
    {
     "data": {
      "text/plain": [
       "Neighbourhood\n",
       "GRANDE VITÓRIA    3.317536\n",
       "SANTA MARTHA      3.434459\n",
       "DO CABRAL         3.470032\n",
       "ENSEADA DO SUÁ    3.546099\n",
       "SANTA TEREZA      3.612903\n",
       "BELA VISTA        4.043127\n",
       "DE LOURDES        4.545455\n",
       "ESTRELINHA        5.177994\n",
       "DO QUADRO         5.611222\n",
       "MATA DA PRAIA     7.493540\n",
       "Name: PatientId, dtype: float64"
      ]
     },
     "execution_count": 55,
     "metadata": {},
     "output_type": "execute_result"
    }
   ],
   "source": [
    "top_10_handicap_neigbhorhood = percentage_handicap_by_neighborhood[-10:]\n",
    "top_10_handicap_neigbhorhood"
   ]
  },
  {
   "cell_type": "markdown",
   "metadata": {},
   "source": [
    "Let's plot this"
   ]
  },
  {
   "cell_type": "code",
   "execution_count": 56,
   "metadata": {
    "scrolled": true
   },
   "outputs": [
    {
     "data": {
      "image/png": "[encoded data removed]",
      "text/plain": [
       "<Figure size 1080x648 with 1 Axes>"
      ]
     },
     "metadata": {
      "needs_background": "light"
     },
     "output_type": "display_data"
    }
   ],
   "source": [
    "plt.subplots(figsize = (15, 9))\n",
    "y = list(range(len(top_10_handicap_neigbhorhood)))\n",
    "plt.barh(y = y, width = top_10_handicap_neigbhorhood, tick_label = top_10_handicap_neigbhorhood.index)\n",
    "for position in y:\n",
    "    plt.annotate(str(round(top_10_handicap_neigbhorhood[position] , 2))+ '%',\n",
    "                 xy=(top_10_handicap_neigbhorhood[position] + 0.05,y[position]))\n",
    "plt.xlabel('% Handicapped',fontsize = 15)\n",
    "plt.ylabel('Neighborhood', fontsize = 15)\n",
    "plt.title('Top 10 Neigborhoods by Handicap Proportion', fontsize = 20);"
   ]
  },
  {
   "cell_type": "markdown",
   "metadata": {},
   "source": [
    "MATA DA PRAIA has the highest proportion of handicapped patients, at 7.5%. This however isn't high enough to be distinctly indicative of specialisation on handicaps"
   ]
  },
  {
   "cell_type": "markdown",
   "metadata": {},
   "source": [
    "<a id='conclusions'></a>\n",
    "## Conclusions\n",
    "\n",
    "\n",
    "\n",
    "> We saw that there were a lot more females than males visiting the hospitals. We saw that about 80% of the people showed up for their appointments. We saw that people enrolled in the medical welfare program tend to be less likely to make their appointments.\n",
    "\n",
    "> People older than 100 years were most likely to miss their appointment, followed by people aged between 10 and 20.\n",
    "\n",
    "> People aged between 30 and 50 visited the hospitals most frequently.\n",
    "\n",
    ">We also saw that people who received SMS were less likely to show up for their appointments\n",
    "\n",
    "> Parting Words: Please note that the conclusions made here are done within the limits of my budding expertise and growing understanding and so should not be held absolute"
   ]
  },
  {
   "cell_type": "markdown",
   "metadata": {
    "collapsed": true
   },
   "source": [
    "## Limitations\n"
   ]
  },
  {
   "cell_type": "markdown",
   "metadata": {},
   "source": [
    "Indepth statistical analysis was not carried out in here and so results should be strictly viewed as descriptive, with no prescriptive goals in mind."
   ]
  },
  {
   "cell_type": "code",
   "execution_count": null,
   "metadata": {},
   "outputs": [],
   "source": []
  }
 ],
 "metadata": {
  "kernelspec": {
   "display_name": "Python 3",
   "language": "python",
   "name": "python3"
  },
  "language_info": {
   "codemirror_mode": {
    "name": "ipython",
    "version": 3
   },
   "file_extension": ".py",
   "mimetype": "text/x-python",
   "name": "python",
   "nbconvert_exporter": "python",
   "pygments_lexer": "ipython3",
   "version": "3.8.8"
  }
 },
 "nbformat": 4,
 "nbformat_minor": 2
}
